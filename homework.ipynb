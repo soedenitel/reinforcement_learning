{
 "cells": [
  {
   "cell_type": "markdown",
   "id": "eeafb8e2",
   "metadata": {},
   "source": [
    "### Q-обучение с оптимизированной ε-жадной стратегией для среды \"Маятник\""
   ]
  },
  {
   "cell_type": "code",
   "execution_count": 1,
   "id": "b32ee8f6",
   "metadata": {},
   "outputs": [],
   "source": [
    "#import warnings\n",
    "#warnings.simplefilter('ignore')\n",
    "import numpy as np\n",
    "import gym\n",
    "import time\n",
    "from sklearn.preprocessing import KBinsDiscretizer\n",
    "import matplotlib.pyplot as plt\n",
    "from IPython.display import clear_output\n",
    "%matplotlib inline\n",
    "\n",
    "\n",
    "def show(rendered):\n",
    "    clear_output(wait=True)\n",
    "    plt.imshow(rendered)\n",
    "    plt.show()"
   ]
  },
  {
   "cell_type": "code",
   "execution_count": 2,
   "id": "11d21a5c",
   "metadata": {},
   "outputs": [
    {
     "data": {
      "text/plain": [
       "(3,)"
      ]
     },
     "execution_count": 2,
     "metadata": {},
     "output_type": "execute_result"
    }
   ],
   "source": [
    "np.array([1, 2, 3]).shape"
   ]
  },
  {
   "cell_type": "markdown",
   "id": "9ce35305",
   "metadata": {},
   "source": [
    "### [Инициализация среды](https://www.gymlibrary.dev/environments/classic_control/pendulum/)"
   ]
  },
  {
   "cell_type": "code",
   "execution_count": 3,
   "id": "8116b22a",
   "metadata": {},
   "outputs": [],
   "source": [
    "environment = gym.make(\"Pendulum-v1\", g=9.81, render_mode=\"rgb_array\")"
   ]
  },
  {
   "cell_type": "markdown",
   "id": "7f0a38e7",
   "metadata": {},
   "source": [
    "### Определение параметров дискретизации"
   ]
  },
  {
   "cell_type": "code",
   "execution_count": 4,
   "id": "0c977d98",
   "metadata": {},
   "outputs": [],
   "source": [
    "bins = {\n",
    "    \"x\": 16,\n",
    "    \"y\": 16,\n",
    "    \"angular_velocity\": 16,\n",
    "    \"torque\": 16\n",
    "}\n",
    "observation_space_dimensions = len(environment.observation_space.low)\n",
    "lower_bounds = list()\n",
    "upper_bounds = list()\n",
    "\n",
    "for i in range(observation_space_dimensions + 1):\n",
    "    if i < observation_space_dimensions:\n",
    "        lower_bounds.append(environment.observation_space.low[i])\n",
    "        upper_bounds.append(environment.observation_space.high[i])\n",
    "    else:\n",
    "        lower_bounds.append(-2)\n",
    "        upper_bounds.append(2)\n",
    "        \n",
    "discretizer = KBinsDiscretizer(\n",
    "    n_bins=list(bins.values()), encode=\"ordinal\", strategy=\"uniform\"\n",
    ").fit([lower_bounds, upper_bounds])\n",
    "\n",
    "\n",
    "def discretize(x, y, angular_velocity, torque, engine=discretizer):\n",
    "    return tuple(map(int, engine.transform([[x, y, angular_velocity, torque]])[0]))\n",
    "\n",
    "\n",
    "def inverse_discretize(x, y, angular_velocity, torque, engine=discretizer):\n",
    "    return tuple(engine.inverse_transform([[x, y, angular_velocity, torque]])[0])"
   ]
  },
  {
   "cell_type": "markdown",
   "id": "d72fece4",
   "metadata": {},
   "source": [
    "### Q-таблица из дискретных состояний среды и возможных действий"
   ]
  },
  {
   "cell_type": "markdown",
   "id": "93a4c77d",
   "metadata": {},
   "source": [
    "#### Выбор действия по ε-жадной стратегии и обновление Q-таблицы"
   ]
  },
  {
   "cell_type": "code",
   "execution_count": 5,
   "id": "f7c09f96",
   "metadata": {},
   "outputs": [],
   "source": [
    "def select_action(env, state, q_tbl, eps=0.1):\n",
    "    if np.random.random() < eps:\n",
    "        # исследование - выбрать случайное действие\n",
    "        return discretize(0, 0, 0, env.action_space.sample()[0])[3]\n",
    "    \n",
    "    # эксплуатация - выбрать оптимальное действие по Q-таблице    \n",
    "    return inverse_discretize(0, 0, 0, np.argmax(q_tbl[state]))[3]\n",
    "\n",
    "\n",
    "def update_q_table(q_tbl, current_state, new_state, reward, action, lr=0.8):\n",
    "    action_selector = discretize(0, 0, 0, action)[3]\n",
    "    q_tbl[current_state][\n",
    "        action_selector\n",
    "    ] = (1 - lr) * q_tbl[current_state][action_selector] + lr * (reward + np.max(q_tbl[new_state]))"
   ]
  },
  {
   "cell_type": "markdown",
   "id": "5004ec9b",
   "metadata": {},
   "source": [
    "#### Обучение по оптимизированной ε-жадной стратегии"
   ]
  },
  {
   "cell_type": "code",
   "execution_count": 6,
   "id": "0136e251",
   "metadata": {},
   "outputs": [
    {
     "name": "stdout",
     "output_type": "stream",
     "text": [
      "CPU times: total: 1h 46min 37s\n",
      "Wall time: 1h 46min 39s\n"
     ]
    }
   ],
   "source": [
    "%%time\n",
    "n_episodes = 100000\n",
    "q_table = np.zeros(list(bins.values()))\n",
    "eps = 0.1\n",
    "lr = 0.8\n",
    "for episode_number in range(n_episodes):    \n",
    "    current_state, terminated, truncated = discretize(*environment.reset()[0], 0)[0:3], False, False\n",
    "    while not terminated and not truncated:\n",
    "        action = select_action(environment, current_state, q_table, eps)\n",
    "        new_observation, reward, terminated, truncated, info = environment.step((action,))\n",
    "        new_state = discretize(*new_observation, 0)[0:3]\n",
    "        update_q_table(q_table, current_state, new_state, reward, action, lr)\n",
    "        current_state = new_state\n",
    "    lr *= 0.9999\n",
    "    eps *= 0.9999"
   ]
  },
  {
   "cell_type": "code",
   "execution_count": 7,
   "id": "26e487e5",
   "metadata": {},
   "outputs": [
    {
     "name": "stdout",
     "output_type": "stream",
     "text": [
      "4.53772339590113e-06 3.630178716720904e-05\n"
     ]
    }
   ],
   "source": [
    "print(eps, lr)"
   ]
  },
  {
   "cell_type": "markdown",
   "id": "df7b3e18",
   "metadata": {},
   "source": [
    "### Проверка обученного агента"
   ]
  },
  {
   "cell_type": "code",
   "execution_count": 8,
   "id": "26dd0132",
   "metadata": {},
   "outputs": [
    {
     "data": {
      "image/png": "[encoded data removed]",
      "text/plain": [
       "<Figure size 432x288 with 1 Axes>"
      ]
     },
     "metadata": {
      "needs_background": "light"
     },
     "output_type": "display_data"
    }
   ],
   "source": [
    "eps = 0\n",
    "current_state, terminated, truncated = discretize(*environment.reset()[0], 0)[0:3], False, False\n",
    "while not terminated and not truncated:\n",
    "    action = select_action(environment, current_state, q_table, eps)\n",
    "    new_observation, reward, terminated, truncated, info = environment.step((action,))\n",
    "    current_state = discretize(*new_observation, 0)[0:3]\n",
    "    show(environment.render())\n",
    "    time.sleep(0.05)\n",
    "environment.close()"
   ]
  }
 ],
 "metadata": {
  "kernelspec": {
   "display_name": "Python 3 (ipykernel)",
   "language": "python",
   "name": "python3"
  },
  "language_info": {
   "codemirror_mode": {
    "name": "ipython",
    "version": 3
   },
   "file_extension": ".py",
   "mimetype": "text/x-python",
   "name": "python",
   "nbconvert_exporter": "python",
   "pygments_lexer": "ipython3",
   "version": "3.10.4"
  }
 },
 "nbformat": 4,
 "nbformat_minor": 5
}
